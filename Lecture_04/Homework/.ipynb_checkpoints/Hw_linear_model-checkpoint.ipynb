{
 "cells": [
  {
   "cell_type": "code",
   "execution_count": 3,
   "metadata": {},
   "outputs": [
    {
     "name": "stdout",
     "output_type": "stream",
     "text": [
      "<class 'pandas.core.frame.DataFrame'>\n",
      "RangeIndex: 941 entries, 0 to 940\n",
      "Data columns (total 7 columns):\n",
      " #   Column                       Non-Null Count  Dtype  \n",
      "---  ------                       --------------  -----  \n",
      " 0   Data                         365 non-null    object \n",
      " 1   Temperatura Media (C)        365 non-null    object \n",
      " 2   Temperatura Minima (C)       365 non-null    object \n",
      " 3   Temperatura Maxima (C)       365 non-null    object \n",
      " 4   Precipitacao (mm)            365 non-null    object \n",
      " 5   Final de Semana              365 non-null    float64\n",
      " 6   Consumo de cerveja (litros)  365 non-null    float64\n",
      "dtypes: float64(2), object(5)\n",
      "memory usage: 51.6+ KB\n"
     ]
    }
   ],
   "source": [
    "import pandas as pd\n",
    "beer_consumption = pd.read_csv('Consumo_cerveja.csv')\n",
    "beer_consumption.info()"
   ]
  },
  {
   "cell_type": "markdown",
   "metadata": {},
   "source": [
    "- Data: Date\n",
    "- Temperatura Media (C): nhiet do trung binh\n",
    "- Temperatura Minima (C): nhiet do thap nhat\n",
    "- Temperatura Maxima (C): nhiet do cao nhat\n",
    "- Precipitacao (mm): luong mua (rain fall)\n",
    "- Final de Semana: weekend or not (0 = not weekend, 1 = weekend)\n",
    "- Consumo de cerveja (litros): luong bia tieu thu"
   ]
  },
  {
   "cell_type": "code",
   "execution_count": null,
   "metadata": {},
   "outputs": [],
   "source": [
    "#Tim va toi uu hoa mo hinh multiple linear regression cho luong bia tieu thu?\n",
    "#check xem mo hinh du bao nhu the nao?"
   ]
  }
 ],
 "metadata": {
  "kernelspec": {
   "display_name": "Python 3",
   "language": "python",
   "name": "python3"
  },
  "language_info": {
   "codemirror_mode": {
    "name": "ipython",
    "version": 3
   },
   "file_extension": ".py",
   "mimetype": "text/x-python",
   "name": "python",
   "nbconvert_exporter": "python",
   "pygments_lexer": "ipython3",
   "version": "3.8.5"
  }
 },
 "nbformat": 4,
 "nbformat_minor": 4
}
