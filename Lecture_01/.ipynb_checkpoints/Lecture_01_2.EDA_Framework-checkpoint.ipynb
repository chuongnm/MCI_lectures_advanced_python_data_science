{
 "cells": [
  {
   "cell_type": "markdown",
   "metadata": {},
   "source": [
    "# Exploratory Data Analysis<a href=\"#Exploratory-Data-Analysis\" class=\"anchor-link\">¶</a>\n",
    "\n",
    "![](https://fiverr-res.cloudinary.com/images/t_main1,q_auto,f_auto,q_auto,f_auto/gigs/136400130/original/4ba618b0ca533da4e275a05cc4013f6b982cb874/machine-learning-android-development.jpg)\n",
    "\n"
   ]
  },
  {
   "cell_type": "markdown",
   "metadata": {},
   "source": [
    "# Exploratory Data Analysis<a href=\"#Exploratory-Data-Analysis\" class=\"anchor-link\">¶</a>\n",
    "\n",
    "-   The first step in any data science project"
   ]
  },
  {
   "cell_type": "markdown",
   "metadata": {},
   "source": [
    "# Elements of Structured Data<a href=\"#Elements-of-Structured-Data\" class=\"anchor-link\">¶</a>\n",
    "\n",
    "-   **Numeric**: Data that are expressed on a numeric scale\n",
    "    -   **Continuous**: Data that can take on any value in an interval.\n",
    "        -   Synonyms: interval, float, numeric.\n",
    "        -   Example: wind speed or time duration\n",
    "    -   **Discrete**: Data that can take on only integer values, such as\n",
    "        counts.\n",
    "        -   Synonyms: integer, count\n",
    "        -   Example: count of the occurrence of an event\n",
    "-   **Categorical**: Data that can take on only a specific set of values\n",
    "    representing a set of possible categories.\n",
    "    -   Synonyms: enums, enumerated, factors, nominal, polychotomous\n",
    "    -   **Binary**: A special case of categorical data with just two\n",
    "        categories of values (0/1, true/false).\n",
    "        -   Synonyms: dichotomous, logical, indicator, boolean\n",
    "        -   Example: 0/1, yes/no, or true/false\n",
    "    -   **Ordinal**:Categorical data that has an explicit ordering.\n",
    "        -   Synonyms: ordered factor.\n",
    "        -   Example: numerical rating (1, 2, 3, 4, or 5).\n",
    "\n",
    "### Even unstructured data need to be transformed to structured format before any analysis<a href=\"#Even-unstructured-data-need-to-be-transformed-to-structured-format-before-any-analysis\" class=\"anchor-link\">¶</a>"
   ]
  },
  {
   "cell_type": "code",
   "execution_count": 11,
   "metadata": {},
   "outputs": [
    {
     "name": "stdout",
     "output_type": "stream",
     "text": [
      "<class 'float'>\n",
      "<class 'int'>\n",
      "<class 'bool'>\n",
      "<class 'str'>\n"
     ]
    }
   ],
   "source": [
    "numeric_continuous = 3.14\n",
    "print(type(numeric_continuous))\n",
    "\n",
    "numeric_discrete = 100\n",
    "print(type(numeric_discrete))\n",
    "\n",
    "cat_binary = True\n",
    "print(type(cat_binary))\n",
    "\n",
    "cat_ordinal = \"First\"\n",
    "print(type(cat_ordinal))"
   ]
  },
  {
   "cell_type": "markdown",
   "metadata": {},
   "source": [
    "# Estimates of Location - Mode, Mean, Median, Range<a href=\"#Estimates-of-Location---Mode,-Mean,-Median,-Range\" class=\"anchor-link\">¶</a>\n",
    "\n",
    "![](https://www.theschoolrun.com/sites/theschoolrun.com/files/article_images/mode_mean_median_range.png)\n",
    "\n",
    "# Exploring the Data Distribution - Boxplot<a href=\"#Exploring-the-Data-Distribution---Boxplot\" class=\"anchor-link\">¶</a>\n",
    "\n",
    "-   A plot introduced by Tukey as a quick way to visualize the\n",
    "    distribution of data.\n",
    "    ![](https://miro.medium.com/max/18000/1*2c21SkzJMf3frPXPAR_gZA.png)\n",
    "\n",
    "\n",
    "# Exploring the Data Distribution - Histogram<a href=\"#Exploring-the-Data-Distribution---Histogram\" class=\"anchor-link\">¶</a>\n",
    "\n",
    "![](https://chartio.com/assets/26dba4/tutorials/charts/box-plots/046df50d3e23296f1dda99a385bd54925317c413ffff2a63779ffef0a42b9434/box-plot-construction.png)\n",
    "\n",
    "# Exploring the Data Distribution<a href=\"#Exploring-the-Data-Distribution\" class=\"anchor-link\">¶</a>\n",
    "\n",
    "## Density plot<a href=\"#Density-plot\" class=\"anchor-link\">¶</a>\n",
    "\n",
    "-   A smoothed version of the histogram, often based on a kernel density\n",
    "    estimate.\n",
    "    ![](https://datavizcatalogue.com/methods/images/top_images/SVG/density_plot.svg)\n",
    "\n",
    "# Exploring the Data Distribution<a href=\"#Exploring-the-Data-Distribution\" class=\"anchor-link\">¶</a>\n",
    "\n",
    "## Density plot - Skewness & Kurtosis<a href=\"#Density-plot---Skewness-&amp;-Kurtosis\" class=\"anchor-link\">¶</a>\n",
    "\n",
    "![](https://www.researchgate.net/profile/Attila_Bonyar/publication/298415862/figure/fig1/AS:340236723867648@1458130164255/Illustration-of-the-skewness-and-kurtosis-values-and-how-they-correlate-with-the-shape-of.png)\n",
    "\n",
    "\n",
    "\n",
    "# Exploring Binary and Categorical Data<a href=\"#Exploring-Binary-and-Categorical-Data\" class=\"anchor-link\">¶</a>\n",
    "\n",
    "## Bar charts<a href=\"#Bar-charts\" class=\"anchor-link\">¶</a>\n",
    "\n",
    "-   The frequency or proportion for each category plotted as bars.\n",
    "    ![](https://chartio.com/assets/f7272d/tutorials/charts/bar-charts/4231f2343fb3c86edcd9e468db398d33c18ab1c16c6d38a1afedf0e06ca8fc4d/bar-chart-example-3.png)\n",
    "\n",
    "# Exploring Binary and Categorical Data - Pie charts<a href=\"#Exploring-Binary-and-Categorical-Data---Pie-charts\" class=\"anchor-link\">¶</a>\n",
    "\n",
    "![](https://upload.wikimedia.org/wikipedia/commons/6/63/Pie-chart.jpg)"
   ]
  },
  {
   "cell_type": "code",
   "execution_count": null,
   "metadata": {},
   "outputs": [],
   "source": []
  }
 ],
 "metadata": {
  "kernelspec": {
   "display_name": "Python 3",
   "language": "python",
   "name": "python3"
  },
  "language_info": {
   "codemirror_mode": {
    "name": "ipython",
    "version": 3
   },
   "file_extension": ".py",
   "mimetype": "text/x-python",
   "name": "python",
   "nbconvert_exporter": "python",
   "pygments_lexer": "ipython3",
   "version": "3.8.5"
  }
 },
 "nbformat": 4,
 "nbformat_minor": 5
}
