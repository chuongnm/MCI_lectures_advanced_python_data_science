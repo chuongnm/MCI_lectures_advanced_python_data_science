{
 "cells": [
  {
   "cell_type": "markdown",
   "metadata": {},
   "source": [
    "Reference: VIB-Hackathon"
   ]
  },
  {
   "cell_type": "code",
   "execution_count": 1,
   "metadata": {},
   "outputs": [],
   "source": [
    "import pandas as pd\n",
    "import numpy as np\n",
    "import sklearn\n",
    "import matplotlib.pyplot as plt\n",
    "import seaborn as sns\n",
    "sns.set_style('whitegrid')\n",
    "%matplotlib inline\n",
    "from sklearn.cluster import KMeans\n",
    "from sklearn.decomposition import PCA\n",
    "from sklearn.preprocessing import MinMaxScaler\n",
    "from sklearn.preprocessing import StandardScaler\n",
    "from sklearn import preprocessing"
   ]
  },
  {
   "cell_type": "code",
   "execution_count": 2,
   "metadata": {},
   "outputs": [],
   "source": [
    "customers = pd.read_csv(\"VIB_Customer.csv\")"
   ]
  },
  {
   "cell_type": "code",
   "execution_count": 3,
   "metadata": {},
   "outputs": [
    {
     "name": "stdout",
     "output_type": "stream",
     "text": [
      "<class 'pandas.core.frame.DataFrame'>\n",
      "RangeIndex: 44856 entries, 0 to 44855\n",
      "Data columns (total 13 columns):\n",
      " #   Column           Non-Null Count  Dtype  \n",
      "---  ------           --------------  -----  \n",
      " 0   CUSTOMER_NUMBER  44856 non-null  int64  \n",
      " 1   CLIENT_SEX       44856 non-null  object \n",
      " 2   STAFF_VIB        44856 non-null  object \n",
      " 3   Age              44835 non-null  float64\n",
      " 4   net_lending      44856 non-null  int64  \n",
      " 5   net_ca           44856 non-null  float64\n",
      " 6   net_td           44856 non-null  float64\n",
      " 7   avg_act          44856 non-null  float64\n",
      " 8   avg_trans        44856 non-null  float64\n",
      " 9   ytd_creditcard   44856 non-null  int64  \n",
      " 10  open_creditcard  44856 non-null  int64  \n",
      " 11  ytd_debitcard    44856 non-null  int64  \n",
      " 12  open_debitcard   44856 non-null  int64  \n",
      "dtypes: float64(5), int64(6), object(2)\n",
      "memory usage: 4.4+ MB\n"
     ]
    }
   ],
   "source": [
    "customers.info()"
   ]
  },
  {
   "cell_type": "code",
   "execution_count": 5,
   "metadata": {},
   "outputs": [
    {
     "data": {
      "text/html": [
       "<div>\n",
       "<style scoped>\n",
       "    .dataframe tbody tr th:only-of-type {\n",
       "        vertical-align: middle;\n",
       "    }\n",
       "\n",
       "    .dataframe tbody tr th {\n",
       "        vertical-align: top;\n",
       "    }\n",
       "\n",
       "    .dataframe thead th {\n",
       "        text-align: right;\n",
       "    }\n",
       "</style>\n",
       "<table border=\"1\" class=\"dataframe\">\n",
       "  <thead>\n",
       "    <tr style=\"text-align: right;\">\n",
       "      <th></th>\n",
       "      <th>CUSTOMER_NUMBER</th>\n",
       "      <th>Age</th>\n",
       "      <th>net_lending</th>\n",
       "      <th>net_ca</th>\n",
       "      <th>net_td</th>\n",
       "      <th>avg_act</th>\n",
       "      <th>avg_trans</th>\n",
       "      <th>ytd_creditcard</th>\n",
       "      <th>open_creditcard</th>\n",
       "      <th>ytd_debitcard</th>\n",
       "      <th>open_debitcard</th>\n",
       "    </tr>\n",
       "  </thead>\n",
       "  <tbody>\n",
       "    <tr>\n",
       "      <th>count</th>\n",
       "      <td>44856.000000</td>\n",
       "      <td>44835.000000</td>\n",
       "      <td>4.485600e+04</td>\n",
       "      <td>4.485600e+04</td>\n",
       "      <td>4.485600e+04</td>\n",
       "      <td>44856.000000</td>\n",
       "      <td>44856.000000</td>\n",
       "      <td>44856.000000</td>\n",
       "      <td>44856.000000</td>\n",
       "      <td>44856.000000</td>\n",
       "      <td>44856.000000</td>\n",
       "    </tr>\n",
       "    <tr>\n",
       "      <th>mean</th>\n",
       "      <td>502292.425517</td>\n",
       "      <td>31.483417</td>\n",
       "      <td>1.185694e+08</td>\n",
       "      <td>5.010458e+06</td>\n",
       "      <td>2.635457e+07</td>\n",
       "      <td>45.383381</td>\n",
       "      <td>1.868568</td>\n",
       "      <td>0.237181</td>\n",
       "      <td>0.209872</td>\n",
       "      <td>0.511771</td>\n",
       "      <td>0.440766</td>\n",
       "    </tr>\n",
       "    <tr>\n",
       "      <th>std</th>\n",
       "      <td>288591.377847</td>\n",
       "      <td>9.145628</td>\n",
       "      <td>3.723443e+08</td>\n",
       "      <td>4.168612e+07</td>\n",
       "      <td>3.312298e+08</td>\n",
       "      <td>86.461534</td>\n",
       "      <td>10.191824</td>\n",
       "      <td>0.465164</td>\n",
       "      <td>0.441375</td>\n",
       "      <td>0.576077</td>\n",
       "      <td>0.562504</td>\n",
       "    </tr>\n",
       "    <tr>\n",
       "      <th>min</th>\n",
       "      <td>3.000000</td>\n",
       "      <td>0.000000</td>\n",
       "      <td>-2.300000e+09</td>\n",
       "      <td>-5.193548e+08</td>\n",
       "      <td>-4.451613e+09</td>\n",
       "      <td>0.000000</td>\n",
       "      <td>0.000000</td>\n",
       "      <td>0.000000</td>\n",
       "      <td>0.000000</td>\n",
       "      <td>0.000000</td>\n",
       "      <td>0.000000</td>\n",
       "    </tr>\n",
       "    <tr>\n",
       "      <th>25%</th>\n",
       "      <td>252669.500000</td>\n",
       "      <td>25.000000</td>\n",
       "      <td>0.000000e+00</td>\n",
       "      <td>0.000000e+00</td>\n",
       "      <td>0.000000e+00</td>\n",
       "      <td>0.000000</td>\n",
       "      <td>0.000000</td>\n",
       "      <td>0.000000</td>\n",
       "      <td>0.000000</td>\n",
       "      <td>0.000000</td>\n",
       "      <td>0.000000</td>\n",
       "    </tr>\n",
       "    <tr>\n",
       "      <th>50%</th>\n",
       "      <td>502660.500000</td>\n",
       "      <td>30.000000</td>\n",
       "      <td>0.000000e+00</td>\n",
       "      <td>2.000000e+05</td>\n",
       "      <td>0.000000e+00</td>\n",
       "      <td>5.000000</td>\n",
       "      <td>0.000000</td>\n",
       "      <td>0.000000</td>\n",
       "      <td>0.000000</td>\n",
       "      <td>0.000000</td>\n",
       "      <td>0.000000</td>\n",
       "    </tr>\n",
       "    <tr>\n",
       "      <th>75%</th>\n",
       "      <td>752550.500000</td>\n",
       "      <td>36.000000</td>\n",
       "      <td>1.670000e+07</td>\n",
       "      <td>1.416818e+06</td>\n",
       "      <td>0.000000e+00</td>\n",
       "      <td>61.800000</td>\n",
       "      <td>1.500000</td>\n",
       "      <td>0.000000</td>\n",
       "      <td>0.000000</td>\n",
       "      <td>1.000000</td>\n",
       "      <td>1.000000</td>\n",
       "    </tr>\n",
       "    <tr>\n",
       "      <th>max</th>\n",
       "      <td>999969.000000</td>\n",
       "      <td>108.000000</td>\n",
       "      <td>2.000000e+10</td>\n",
       "      <td>2.603087e+09</td>\n",
       "      <td>3.501712e+10</td>\n",
       "      <td>2548.000000</td>\n",
       "      <td>1101.800000</td>\n",
       "      <td>11.000000</td>\n",
       "      <td>11.000000</td>\n",
       "      <td>9.000000</td>\n",
       "      <td>9.000000</td>\n",
       "    </tr>\n",
       "  </tbody>\n",
       "</table>\n",
       "</div>"
      ],
      "text/plain": [
       "       CUSTOMER_NUMBER           Age   net_lending        net_ca  \\\n",
       "count     44856.000000  44835.000000  4.485600e+04  4.485600e+04   \n",
       "mean     502292.425517     31.483417  1.185694e+08  5.010458e+06   \n",
       "std      288591.377847      9.145628  3.723443e+08  4.168612e+07   \n",
       "min           3.000000      0.000000 -2.300000e+09 -5.193548e+08   \n",
       "25%      252669.500000     25.000000  0.000000e+00  0.000000e+00   \n",
       "50%      502660.500000     30.000000  0.000000e+00  2.000000e+05   \n",
       "75%      752550.500000     36.000000  1.670000e+07  1.416818e+06   \n",
       "max      999969.000000    108.000000  2.000000e+10  2.603087e+09   \n",
       "\n",
       "             net_td       avg_act     avg_trans  ytd_creditcard  \\\n",
       "count  4.485600e+04  44856.000000  44856.000000    44856.000000   \n",
       "mean   2.635457e+07     45.383381      1.868568        0.237181   \n",
       "std    3.312298e+08     86.461534     10.191824        0.465164   \n",
       "min   -4.451613e+09      0.000000      0.000000        0.000000   \n",
       "25%    0.000000e+00      0.000000      0.000000        0.000000   \n",
       "50%    0.000000e+00      5.000000      0.000000        0.000000   \n",
       "75%    0.000000e+00     61.800000      1.500000        0.000000   \n",
       "max    3.501712e+10   2548.000000   1101.800000       11.000000   \n",
       "\n",
       "       open_creditcard  ytd_debitcard  open_debitcard  \n",
       "count     44856.000000   44856.000000    44856.000000  \n",
       "mean          0.209872       0.511771        0.440766  \n",
       "std           0.441375       0.576077        0.562504  \n",
       "min           0.000000       0.000000        0.000000  \n",
       "25%           0.000000       0.000000        0.000000  \n",
       "50%           0.000000       0.000000        0.000000  \n",
       "75%           0.000000       1.000000        1.000000  \n",
       "max          11.000000       9.000000        9.000000  "
      ]
     },
     "execution_count": 5,
     "metadata": {},
     "output_type": "execute_result"
    }
   ],
   "source": [
    "customers.describe()"
   ]
  },
  {
   "cell_type": "code",
   "execution_count": null,
   "metadata": {},
   "outputs": [],
   "source": [
    "#co dung scaler!"
   ]
  },
  {
   "cell_type": "code",
   "execution_count": 6,
   "metadata": {},
   "outputs": [],
   "source": [
    "from sklearn import preprocessing\n",
    "le = preprocessing.LabelEncoder()\n",
    "customers['CLIENT_SEX_le'] = le.fit_transform(customers['CLIENT_SEX'])"
   ]
  },
  {
   "cell_type": "code",
   "execution_count": 7,
   "metadata": {},
   "outputs": [
    {
     "data": {
      "text/plain": [
       "CUSTOMER_NUMBER     0\n",
       "CLIENT_SEX          0\n",
       "STAFF_VIB           0\n",
       "Age                21\n",
       "net_lending         0\n",
       "net_ca              0\n",
       "net_td              0\n",
       "avg_act             0\n",
       "avg_trans           0\n",
       "ytd_creditcard      0\n",
       "open_creditcard     0\n",
       "ytd_debitcard       0\n",
       "open_debitcard      0\n",
       "CLIENT_SEX_le       0\n",
       "dtype: int64"
      ]
     },
     "execution_count": 7,
     "metadata": {},
     "output_type": "execute_result"
    }
   ],
   "source": [
    "customers.isnull().sum() #Age bi null -> bo di cac dong co age is null"
   ]
  },
  {
   "cell_type": "code",
   "execution_count": 8,
   "metadata": {},
   "outputs": [],
   "source": [
    "customers.dropna(inplace=True)"
   ]
  },
  {
   "cell_type": "code",
   "execution_count": 9,
   "metadata": {},
   "outputs": [
    {
     "data": {
      "text/plain": [
       "Index(['CUSTOMER_NUMBER', 'CLIENT_SEX', 'STAFF_VIB', 'Age', 'net_lending',\n",
       "       'net_ca', 'net_td', 'avg_act', 'avg_trans', 'ytd_creditcard',\n",
       "       'open_creditcard', 'ytd_debitcard', 'open_debitcard', 'CLIENT_SEX_le'],\n",
       "      dtype='object')"
      ]
     },
     "execution_count": 9,
     "metadata": {},
     "output_type": "execute_result"
    }
   ],
   "source": [
    "customers.columns"
   ]
  },
  {
   "cell_type": "code",
   "execution_count": 10,
   "metadata": {},
   "outputs": [
    {
     "data": {
      "text/html": [
       "<div>\n",
       "<style scoped>\n",
       "    .dataframe tbody tr th:only-of-type {\n",
       "        vertical-align: middle;\n",
       "    }\n",
       "\n",
       "    .dataframe tbody tr th {\n",
       "        vertical-align: top;\n",
       "    }\n",
       "\n",
       "    .dataframe thead th {\n",
       "        text-align: right;\n",
       "    }\n",
       "</style>\n",
       "<table border=\"1\" class=\"dataframe\">\n",
       "  <thead>\n",
       "    <tr style=\"text-align: right;\">\n",
       "      <th></th>\n",
       "      <th>Age</th>\n",
       "      <th>net_lending</th>\n",
       "      <th>net_ca</th>\n",
       "      <th>net_td</th>\n",
       "      <th>avg_act</th>\n",
       "      <th>avg_trans</th>\n",
       "      <th>ytd_creditcard</th>\n",
       "      <th>open_creditcard</th>\n",
       "      <th>ytd_debitcard</th>\n",
       "      <th>open_debitcard</th>\n",
       "      <th>CLIENT_SEX_le</th>\n",
       "    </tr>\n",
       "  </thead>\n",
       "  <tbody>\n",
       "    <tr>\n",
       "      <th>0</th>\n",
       "      <td>24.0</td>\n",
       "      <td>0</td>\n",
       "      <td>-43851.98</td>\n",
       "      <td>11651612.9</td>\n",
       "      <td>105.166667</td>\n",
       "      <td>2.0</td>\n",
       "      <td>0</td>\n",
       "      <td>0</td>\n",
       "      <td>1</td>\n",
       "      <td>0</td>\n",
       "      <td>0</td>\n",
       "    </tr>\n",
       "    <tr>\n",
       "      <th>1</th>\n",
       "      <td>37.0</td>\n",
       "      <td>0</td>\n",
       "      <td>-301834.62</td>\n",
       "      <td>0.0</td>\n",
       "      <td>140.800000</td>\n",
       "      <td>7.0</td>\n",
       "      <td>0</td>\n",
       "      <td>0</td>\n",
       "      <td>1</td>\n",
       "      <td>0</td>\n",
       "      <td>1</td>\n",
       "    </tr>\n",
       "    <tr>\n",
       "      <th>2</th>\n",
       "      <td>25.0</td>\n",
       "      <td>0</td>\n",
       "      <td>-18661528.17</td>\n",
       "      <td>0.0</td>\n",
       "      <td>30.500000</td>\n",
       "      <td>1.0</td>\n",
       "      <td>0</td>\n",
       "      <td>0</td>\n",
       "      <td>1</td>\n",
       "      <td>0</td>\n",
       "      <td>1</td>\n",
       "    </tr>\n",
       "    <tr>\n",
       "      <th>3</th>\n",
       "      <td>20.0</td>\n",
       "      <td>0</td>\n",
       "      <td>903419.43</td>\n",
       "      <td>0.0</td>\n",
       "      <td>127.666667</td>\n",
       "      <td>4.5</td>\n",
       "      <td>0</td>\n",
       "      <td>0</td>\n",
       "      <td>1</td>\n",
       "      <td>0</td>\n",
       "      <td>1</td>\n",
       "    </tr>\n",
       "    <tr>\n",
       "      <th>4</th>\n",
       "      <td>29.0</td>\n",
       "      <td>0</td>\n",
       "      <td>-849796.77</td>\n",
       "      <td>0.0</td>\n",
       "      <td>100.666667</td>\n",
       "      <td>8.5</td>\n",
       "      <td>0</td>\n",
       "      <td>0</td>\n",
       "      <td>1</td>\n",
       "      <td>0</td>\n",
       "      <td>1</td>\n",
       "    </tr>\n",
       "  </tbody>\n",
       "</table>\n",
       "</div>"
      ],
      "text/plain": [
       "    Age  net_lending       net_ca      net_td     avg_act  avg_trans  \\\n",
       "0  24.0            0    -43851.98  11651612.9  105.166667        2.0   \n",
       "1  37.0            0   -301834.62         0.0  140.800000        7.0   \n",
       "2  25.0            0 -18661528.17         0.0   30.500000        1.0   \n",
       "3  20.0            0    903419.43         0.0  127.666667        4.5   \n",
       "4  29.0            0   -849796.77         0.0  100.666667        8.5   \n",
       "\n",
       "   ytd_creditcard  open_creditcard  ytd_debitcard  open_debitcard  \\\n",
       "0               0                0              1               0   \n",
       "1               0                0              1               0   \n",
       "2               0                0              1               0   \n",
       "3               0                0              1               0   \n",
       "4               0                0              1               0   \n",
       "\n",
       "   CLIENT_SEX_le  \n",
       "0              0  \n",
       "1              1  \n",
       "2              1  \n",
       "3              1  \n",
       "4              1  "
      ]
     },
     "execution_count": 10,
     "metadata": {},
     "output_type": "execute_result"
    }
   ],
   "source": [
    "feature_cols = ['Age', 'net_lending',\n",
    "       'net_ca', 'net_td', 'avg_act', 'avg_trans', 'ytd_creditcard',\n",
    "       'open_creditcard', 'ytd_debitcard', 'open_debitcard', 'CLIENT_SEX_le']\n",
    "X = customers[feature_cols]\n",
    "X.head()"
   ]
  },
  {
   "cell_type": "code",
   "execution_count": 14,
   "metadata": {},
   "outputs": [
    {
     "name": "stdout",
     "output_type": "stream",
     "text": [
      "[[-0.81825987 -0.31849133 -0.12126828 -0.04441641  0.69115887  0.01281416\n",
      "  -0.50939714 -0.47512086  0.84705829 -0.78388308 -1.19558476]\n",
      " [ 0.60320019 -0.31849133 -0.12745561 -0.07958545  1.10322902  0.50329758\n",
      "  -0.50939714 -0.47512086  0.84705829 -0.78388308  0.83641079]\n",
      " [-0.70891679 -0.31849133 -0.56778619 -0.07958545 -0.17229963 -0.08528252\n",
      "  -0.50939714 -0.47512086  0.84705829 -0.78388308  0.83641079]\n",
      " [-1.25563219 -0.31849133 -0.09854935 -0.07958545  0.95135284  0.25805587\n",
      "  -0.50939714 -0.47512086  0.84705829 -0.78388308  0.83641079]\n",
      " [-0.27154446 -0.31849133 -0.14059769 -0.07958545  0.63912008  0.65044261\n",
      "  -0.50939714 -0.47512086  0.84705829 -0.78388308  0.83641079]]\n"
     ]
    }
   ],
   "source": [
    "X_original = X\n",
    "X = StandardScaler().fit_transform(X)\n",
    "print(X[:5])"
   ]
  },
  {
   "cell_type": "code",
   "execution_count": 15,
   "metadata": {},
   "outputs": [],
   "source": [
    "pca = PCA(n_components=2).fit(X)"
   ]
  },
  {
   "cell_type": "code",
   "execution_count": 18,
   "metadata": {},
   "outputs": [
    {
     "name": "stdout",
     "output_type": "stream",
     "text": [
      "[0.25680286 0.13927825]\n"
     ]
    }
   ],
   "source": [
    "print(pca.explained_variance_ratio_)"
   ]
  },
  {
   "cell_type": "code",
   "execution_count": 19,
   "metadata": {},
   "outputs": [
    {
     "data": {
      "text/plain": [
       "<matplotlib.collections.PathCollection at 0x1a10ac94250>"
      ]
     },
     "execution_count": 19,
     "metadata": {},
     "output_type": "execute_result"
    },
    {
     "data": {
      "image/png": "[encoded data removed]",
      "text/plain": [
       "<Figure size 432x288 with 1 Axes>"
      ]
     },
     "metadata": {
      "needs_background": "light"
     },
     "output_type": "display_data"
    }
   ],
   "source": [
    "pca_2d = pca.transform(X)\n",
    "import matplotlib.pyplot as plt\n",
    "plt.scatter(pca_2d[:,0],pca_2d[:,1])"
   ]
  },
  {
   "cell_type": "code",
   "execution_count": 20,
   "metadata": {},
   "outputs": [
    {
     "data": {
      "image/png": "[encoded data removed]",
      "text/plain": [
       "<Figure size 432x288 with 1 Axes>"
      ]
     },
     "metadata": {
      "needs_background": "light"
     },
     "output_type": "display_data"
    }
   ],
   "source": [
    "sse = []\n",
    "for i in range(1,11):\n",
    "    km = KMeans(n_clusters=i,init='k-means++', max_iter=300, n_init=10, random_state=0)\n",
    "    km.fit(pca_2d)\n",
    "    sse.append(km.inertia_)\n",
    "plt.plot(range(1,11),sse, c=\"#c51b7d\")\n",
    "plt.gca().spines[\"top\"].set_visible(False)\n",
    "plt.gca().spines[\"right\"].set_visible(False)\n",
    "plt.title('Elbow Method', size=14)\n",
    "plt.xlabel('Number of clusters', size=12)\n",
    "plt.ylabel('sse', size=14)\n",
    "plt.show()"
   ]
  },
  {
   "cell_type": "code",
   "execution_count": null,
   "metadata": {},
   "outputs": [],
   "source": [
    "#chon number of cluster =3"
   ]
  },
  {
   "cell_type": "code",
   "execution_count": 23,
   "metadata": {},
   "outputs": [],
   "source": [
    "kmeans = KMeans(n_clusters=3, init='k-means++', max_iter=10, n_init=10, random_state=0)"
   ]
  },
  {
   "cell_type": "code",
   "execution_count": 25,
   "metadata": {},
   "outputs": [],
   "source": [
    "y_means = kmeans.fit_predict(X)"
   ]
  },
  {
   "cell_type": "code",
   "execution_count": 26,
   "metadata": {},
   "outputs": [],
   "source": [
    "centroids = pd.DataFrame(kmeans.cluster_centers_, \n",
    "                        columns = ['Age', 'net_lending',\n",
    "       'net_ca', 'net_td', 'avg_act', 'avg_trans', 'ytd_creditcard',\n",
    "       'open_creditcard', 'ytd_debitcard', 'open_debitcard', 'CLIENT_SEX_le'])"
   ]
  },
  {
   "cell_type": "code",
   "execution_count": 27,
   "metadata": {},
   "outputs": [],
   "source": [
    "centroids.index_name = \"ClusterID\""
   ]
  },
  {
   "cell_type": "code",
   "execution_count": 28,
   "metadata": {},
   "outputs": [],
   "source": [
    "centroids[\"ClusterID\"] = centroids.index\n",
    "centroids = centroids.reset_index(drop=True)"
   ]
  },
  {
   "cell_type": "code",
   "execution_count": 29,
   "metadata": {},
   "outputs": [
    {
     "data": {
      "text/html": [
       "<div>\n",
       "<style scoped>\n",
       "    .dataframe tbody tr th:only-of-type {\n",
       "        vertical-align: middle;\n",
       "    }\n",
       "\n",
       "    .dataframe tbody tr th {\n",
       "        vertical-align: top;\n",
       "    }\n",
       "\n",
       "    .dataframe thead th {\n",
       "        text-align: right;\n",
       "    }\n",
       "</style>\n",
       "<table border=\"1\" class=\"dataframe\">\n",
       "  <thead>\n",
       "    <tr style=\"text-align: right;\">\n",
       "      <th></th>\n",
       "      <th>Age</th>\n",
       "      <th>net_lending</th>\n",
       "      <th>net_ca</th>\n",
       "      <th>net_td</th>\n",
       "      <th>avg_act</th>\n",
       "      <th>avg_trans</th>\n",
       "      <th>ytd_creditcard</th>\n",
       "      <th>open_creditcard</th>\n",
       "      <th>ytd_debitcard</th>\n",
       "      <th>open_debitcard</th>\n",
       "      <th>CLIENT_SEX_le</th>\n",
       "      <th>ClusterID</th>\n",
       "    </tr>\n",
       "  </thead>\n",
       "  <tbody>\n",
       "    <tr>\n",
       "      <th>0</th>\n",
       "      <td>0.436521</td>\n",
       "      <td>0.275756</td>\n",
       "      <td>0.013180</td>\n",
       "      <td>0.080025</td>\n",
       "      <td>-0.252317</td>\n",
       "      <td>-0.117059</td>\n",
       "      <td>-0.371589</td>\n",
       "      <td>-0.474978</td>\n",
       "      <td>-0.788130</td>\n",
       "      <td>-0.769257</td>\n",
       "      <td>0.036604</td>\n",
       "      <td>0</td>\n",
       "    </tr>\n",
       "    <tr>\n",
       "      <th>1</th>\n",
       "      <td>-0.414989</td>\n",
       "      <td>-0.243736</td>\n",
       "      <td>0.016602</td>\n",
       "      <td>-0.046847</td>\n",
       "      <td>0.287528</td>\n",
       "      <td>0.147610</td>\n",
       "      <td>-0.496650</td>\n",
       "      <td>-0.467557</td>\n",
       "      <td>0.959771</td>\n",
       "      <td>0.906019</td>\n",
       "      <td>-0.018905</td>\n",
       "      <td>1</td>\n",
       "    </tr>\n",
       "    <tr>\n",
       "      <th>2</th>\n",
       "      <td>0.156665</td>\n",
       "      <td>0.057085</td>\n",
       "      <td>-0.061518</td>\n",
       "      <td>-0.037751</td>\n",
       "      <td>-0.198929</td>\n",
       "      <td>-0.124617</td>\n",
       "      <td>1.799362</td>\n",
       "      <td>1.919611</td>\n",
       "      <td>-0.761581</td>\n",
       "      <td>-0.673373</td>\n",
       "      <td>-0.023005</td>\n",
       "      <td>2</td>\n",
       "    </tr>\n",
       "  </tbody>\n",
       "</table>\n",
       "</div>"
      ],
      "text/plain": [
       "        Age  net_lending    net_ca    net_td   avg_act  avg_trans  \\\n",
       "0  0.436521     0.275756  0.013180  0.080025 -0.252317  -0.117059   \n",
       "1 -0.414989    -0.243736  0.016602 -0.046847  0.287528   0.147610   \n",
       "2  0.156665     0.057085 -0.061518 -0.037751 -0.198929  -0.124617   \n",
       "\n",
       "   ytd_creditcard  open_creditcard  ytd_debitcard  open_debitcard  \\\n",
       "0       -0.371589        -0.474978      -0.788130       -0.769257   \n",
       "1       -0.496650        -0.467557       0.959771        0.906019   \n",
       "2        1.799362         1.919611      -0.761581       -0.673373   \n",
       "\n",
       "   CLIENT_SEX_le  ClusterID  \n",
       "0       0.036604          0  \n",
       "1      -0.018905          1  \n",
       "2      -0.023005          2  "
      ]
     },
     "execution_count": 29,
     "metadata": {},
     "output_type": "execute_result"
    }
   ],
   "source": [
    "centroids"
   ]
  },
  {
   "cell_type": "code",
   "execution_count": 30,
   "metadata": {},
   "outputs": [
    {
     "name": "stdout",
     "output_type": "stream",
     "text": [
      "standard deviation of  Age 0.3543657575587005\n",
      "standard deviation of  net_lending 0.2129637626965954\n",
      "standard deviation of  net_ca 0.03604652313384449\n",
      "standard deviation of  net_td 0.05778363676577665\n",
      "standard deviation of  avg_act 0.24288148493788098\n",
      "standard deviation of  avg_trans 0.12658551460541473\n",
      "standard deviation of  ytd_creditcard 1.0541106146553552\n",
      "standard deviation of  open_creditcard 1.1270751615951318\n",
      "standard deviation of  ytd_debitcard 0.817782677203262\n",
      "standard deviation of  open_debitcard 0.7681307798855698\n",
      "standard deviation of  CLIENT_SEX_le 0.02718552053663934\n",
      "standard deviation of  ClusterID 0.816496580927726\n"
     ]
    }
   ],
   "source": [
    "import numpy as np\n",
    "for i in centroids.columns:\n",
    "    print(\"standard deviation of \",i, np.std(centroids[i]))"
   ]
  },
  {
   "cell_type": "code",
   "execution_count": 31,
   "metadata": {},
   "outputs": [
    {
     "data": {
      "text/plain": [
       "[<matplotlib.lines.Line2D at 0x1a10b4e6400>]"
      ]
     },
     "execution_count": 31,
     "metadata": {},
     "output_type": "execute_result"
    },
    {
     "data": {
      "image/png": "[encoded data removed]",
      "text/plain": [
       "<Figure size 432x288 with 1 Axes>"
      ]
     },
     "metadata": {
      "needs_background": "light"
     },
     "output_type": "display_data"
    }
   ],
   "source": [
    "import numpy as np\n",
    "stds = []\n",
    "for i in centroids.columns:\n",
    "    stds.append(np.std(centroids[i])) \n",
    "plt.plot(stds)"
   ]
  },
  {
   "cell_type": "code",
   "execution_count": null,
   "metadata": {},
   "outputs": [],
   "source": [
    "#standard deviation of  ytd_creditcard 1.0541106146553552\n",
    "#standard deviation of  open_creditcard 1.1270751615951318"
   ]
  },
  {
   "cell_type": "code",
   "execution_count": 32,
   "metadata": {},
   "outputs": [
    {
     "data": {
      "image/png": "[encoded data removed]",
      "text/plain": [
       "<Figure size 432x288 with 1 Axes>"
      ]
     },
     "metadata": {
      "needs_background": "light"
     },
     "output_type": "display_data"
    }
   ],
   "source": [
    "plt.scatter(customers[\"ytd_creditcard\"], \n",
    "            customers[\"open_creditcard\"], \n",
    "            c=y_means, s=100, cmap='viridis')\n",
    "plt.xlabel(\"ytd_creditcard\")\n",
    "plt.ylabel(\"open_creditcard\")\n",
    "plt.title(\"Customers K-MEANS Clustering\");"
   ]
  },
  {
   "cell_type": "markdown",
   "metadata": {},
   "source": [
    "## Test number of cluster = 5"
   ]
  },
  {
   "cell_type": "code",
   "execution_count": 33,
   "metadata": {},
   "outputs": [],
   "source": [
    "kmeans = KMeans(n_clusters=5, init='k-means++', max_iter=10, n_init=10, random_state=0)"
   ]
  },
  {
   "cell_type": "code",
   "execution_count": 34,
   "metadata": {},
   "outputs": [],
   "source": [
    "y_means = kmeans.fit_predict(X)"
   ]
  },
  {
   "cell_type": "code",
   "execution_count": 35,
   "metadata": {},
   "outputs": [],
   "source": [
    "centroids = pd.DataFrame(kmeans.cluster_centers_, \n",
    "                        columns = ['Age', 'net_lending',\n",
    "       'net_ca', 'net_td', 'avg_act', 'avg_trans', 'ytd_creditcard',\n",
    "       'open_creditcard', 'ytd_debitcard', 'open_debitcard', 'CLIENT_SEX_le'])"
   ]
  },
  {
   "cell_type": "code",
   "execution_count": 36,
   "metadata": {},
   "outputs": [],
   "source": [
    "centroids.index_name = \"ClusterID\""
   ]
  },
  {
   "cell_type": "code",
   "execution_count": 37,
   "metadata": {},
   "outputs": [],
   "source": [
    "centroids[\"ClusterID\"] = centroids.index\n",
    "centroids = centroids.reset_index(drop=True)"
   ]
  },
  {
   "cell_type": "code",
   "execution_count": 38,
   "metadata": {},
   "outputs": [
    {
     "data": {
      "text/html": [
       "<div>\n",
       "<style scoped>\n",
       "    .dataframe tbody tr th:only-of-type {\n",
       "        vertical-align: middle;\n",
       "    }\n",
       "\n",
       "    .dataframe tbody tr th {\n",
       "        vertical-align: top;\n",
       "    }\n",
       "\n",
       "    .dataframe thead th {\n",
       "        text-align: right;\n",
       "    }\n",
       "</style>\n",
       "<table border=\"1\" class=\"dataframe\">\n",
       "  <thead>\n",
       "    <tr style=\"text-align: right;\">\n",
       "      <th></th>\n",
       "      <th>Age</th>\n",
       "      <th>net_lending</th>\n",
       "      <th>net_ca</th>\n",
       "      <th>net_td</th>\n",
       "      <th>avg_act</th>\n",
       "      <th>avg_trans</th>\n",
       "      <th>ytd_creditcard</th>\n",
       "      <th>open_creditcard</th>\n",
       "      <th>ytd_debitcard</th>\n",
       "      <th>open_debitcard</th>\n",
       "      <th>CLIENT_SEX_le</th>\n",
       "      <th>ClusterID</th>\n",
       "    </tr>\n",
       "  </thead>\n",
       "  <tbody>\n",
       "    <tr>\n",
       "      <th>0</th>\n",
       "      <td>-0.413869</td>\n",
       "      <td>-0.243862</td>\n",
       "      <td>-0.008647</td>\n",
       "      <td>-0.047314</td>\n",
       "      <td>0.254168</td>\n",
       "      <td>0.098373</td>\n",
       "      <td>-0.497463</td>\n",
       "      <td>-0.468322</td>\n",
       "      <td>0.961923</td>\n",
       "      <td>0.907027</td>\n",
       "      <td>-0.019834</td>\n",
       "      <td>0</td>\n",
       "    </tr>\n",
       "    <tr>\n",
       "      <th>1</th>\n",
       "      <td>-0.273569</td>\n",
       "      <td>-0.333533</td>\n",
       "      <td>0.660270</td>\n",
       "      <td>-0.067288</td>\n",
       "      <td>11.063222</td>\n",
       "      <td>17.418194</td>\n",
       "      <td>-0.509397</td>\n",
       "      <td>-0.475121</td>\n",
       "      <td>0.461322</td>\n",
       "      <td>0.368280</td>\n",
       "      <td>0.234338</td>\n",
       "      <td>1</td>\n",
       "    </tr>\n",
       "    <tr>\n",
       "      <th>2</th>\n",
       "      <td>0.155796</td>\n",
       "      <td>0.053535</td>\n",
       "      <td>-0.070989</td>\n",
       "      <td>-0.036427</td>\n",
       "      <td>-0.197305</td>\n",
       "      <td>-0.123817</td>\n",
       "      <td>1.799154</td>\n",
       "      <td>1.919640</td>\n",
       "      <td>-0.760569</td>\n",
       "      <td>-0.672744</td>\n",
       "      <td>-0.023430</td>\n",
       "      <td>2</td>\n",
       "    </tr>\n",
       "    <tr>\n",
       "      <th>3</th>\n",
       "      <td>0.433139</td>\n",
       "      <td>0.266449</td>\n",
       "      <td>-0.045163</td>\n",
       "      <td>0.075510</td>\n",
       "      <td>-0.250717</td>\n",
       "      <td>-0.116892</td>\n",
       "      <td>-0.371050</td>\n",
       "      <td>-0.475121</td>\n",
       "      <td>-0.791239</td>\n",
       "      <td>-0.771106</td>\n",
       "      <td>0.036553</td>\n",
       "      <td>3</td>\n",
       "    </tr>\n",
       "    <tr>\n",
       "      <th>4</th>\n",
       "      <td>0.599295</td>\n",
       "      <td>2.365026</td>\n",
       "      <td>17.623774</td>\n",
       "      <td>0.884861</td>\n",
       "      <td>0.423446</td>\n",
       "      <td>0.455398</td>\n",
       "      <td>-0.227698</td>\n",
       "      <td>-0.205223</td>\n",
       "      <td>-0.082842</td>\n",
       "      <td>0.020280</td>\n",
       "      <td>0.134889</td>\n",
       "      <td>4</td>\n",
       "    </tr>\n",
       "  </tbody>\n",
       "</table>\n",
       "</div>"
      ],
      "text/plain": [
       "        Age  net_lending     net_ca    net_td    avg_act  avg_trans  \\\n",
       "0 -0.413869    -0.243862  -0.008647 -0.047314   0.254168   0.098373   \n",
       "1 -0.273569    -0.333533   0.660270 -0.067288  11.063222  17.418194   \n",
       "2  0.155796     0.053535  -0.070989 -0.036427  -0.197305  -0.123817   \n",
       "3  0.433139     0.266449  -0.045163  0.075510  -0.250717  -0.116892   \n",
       "4  0.599295     2.365026  17.623774  0.884861   0.423446   0.455398   \n",
       "\n",
       "   ytd_creditcard  open_creditcard  ytd_debitcard  open_debitcard  \\\n",
       "0       -0.497463        -0.468322       0.961923        0.907027   \n",
       "1       -0.509397        -0.475121       0.461322        0.368280   \n",
       "2        1.799154         1.919640      -0.760569       -0.672744   \n",
       "3       -0.371050        -0.475121      -0.791239       -0.771106   \n",
       "4       -0.227698        -0.205223      -0.082842        0.020280   \n",
       "\n",
       "   CLIENT_SEX_le  ClusterID  \n",
       "0      -0.019834          0  \n",
       "1       0.234338          1  \n",
       "2      -0.023430          2  \n",
       "3       0.036553          3  \n",
       "4       0.134889          4  "
      ]
     },
     "execution_count": 38,
     "metadata": {},
     "output_type": "execute_result"
    }
   ],
   "source": [
    "centroids"
   ]
  },
  {
   "cell_type": "code",
   "execution_count": 40,
   "metadata": {},
   "outputs": [
    {
     "name": "stdout",
     "output_type": "stream",
     "text": [
      "standard deviation of  Age 0.3916645209121155\n",
      "standard deviation of  net_lending 0.9949384572832528\n",
      "standard deviation of  net_ca 7.001269657012114\n",
      "standard deviation of  net_td 0.36490201664935284\n",
      "standard deviation of  avg_act 4.409876409197519\n",
      "standard deviation of  avg_trans 6.9391648269656\n",
      "standard deviation of  ytd_creditcard 0.8861088018954733\n",
      "standard deviation of  open_creditcard 0.9359950787227558\n",
      "standard deviation of  ytd_debitcard 0.6841875398938299\n",
      "standard deviation of  open_debitcard 0.6326977466630856\n",
      "standard deviation of  CLIENT_SEX_le 0.09910026807291085\n",
      "standard deviation of  ClusterID 1.4142135623730951\n"
     ]
    }
   ],
   "source": [
    "import numpy as np\n",
    "for i in centroids.columns:\n",
    "    print(\"standard deviation of \",i, np.std(centroids[i]))"
   ]
  },
  {
   "cell_type": "code",
   "execution_count": 39,
   "metadata": {},
   "outputs": [
    {
     "data": {
      "text/plain": [
       "[<matplotlib.lines.Line2D at 0x1a10c3eb2b0>]"
      ]
     },
     "execution_count": 39,
     "metadata": {},
     "output_type": "execute_result"
    },
    {
     "data": {
      "image/png": "[encoded data removed]",
      "text/plain": [
       "<Figure size 432x288 with 1 Axes>"
      ]
     },
     "metadata": {
      "needs_background": "light"
     },
     "output_type": "display_data"
    }
   ],
   "source": [
    "import numpy as np\n",
    "stds = []\n",
    "for i in centroids.columns:\n",
    "    stds.append(np.std(centroids[i])) \n",
    "plt.plot(stds)"
   ]
  },
  {
   "cell_type": "code",
   "execution_count": null,
   "metadata": {},
   "outputs": [],
   "source": [
    "#standard deviation of  net_ca 7.001269657012114\n",
    "#standard deviation of  avg_trans 6.9391648269656"
   ]
  },
  {
   "cell_type": "code",
   "execution_count": 42,
   "metadata": {},
   "outputs": [
    {
     "data": {
      "image/png": "[encoded data removed]",
      "text/plain": [
       "<Figure size 432x288 with 1 Axes>"
      ]
     },
     "metadata": {
      "needs_background": "light"
     },
     "output_type": "display_data"
    }
   ],
   "source": [
    "plt.scatter(customers[\"net_ca\"], \n",
    "            customers[\"avg_trans\"], \n",
    "            c=y_means, s=20, cmap='viridis')\n",
    "plt.xlabel(\"net_ca\")\n",
    "plt.ylabel(\"avg_trans\")\n",
    "plt.title(\"Customers K-MEANS Clustering\");"
   ]
  },
  {
   "cell_type": "code",
   "execution_count": null,
   "metadata": {},
   "outputs": [],
   "source": [
    "# Kmeans duoc dung o trong random playing spotify, apple music, youtube de phan loai bai hat\n"
   ]
  },
  {
   "cell_type": "code",
   "execution_count": null,
   "metadata": {},
   "outputs": [],
   "source": []
  },
  {
   "cell_type": "code",
   "execution_count": null,
   "metadata": {},
   "outputs": [],
   "source": []
  },
  {
   "cell_type": "code",
   "execution_count": null,
   "metadata": {},
   "outputs": [],
   "source": []
  }
 ],
 "metadata": {
  "kernelspec": {
   "display_name": "Python 3",
   "language": "python",
   "name": "python3"
  },
  "language_info": {
   "codemirror_mode": {
    "name": "ipython",
    "version": 3
   },
   "file_extension": ".py",
   "mimetype": "text/x-python",
   "name": "python",
   "nbconvert_exporter": "python",
   "pygments_lexer": "ipython3",
   "version": "3.8.5"
  }
 },
 "nbformat": 4,
 "nbformat_minor": 4
}
