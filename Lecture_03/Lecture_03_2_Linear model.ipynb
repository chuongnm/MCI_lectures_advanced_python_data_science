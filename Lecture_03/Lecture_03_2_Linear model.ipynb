{
 "cells": [
  {
   "cell_type": "markdown",
   "metadata": {},
   "source": [
    "## Relationship between two variables\n",
    "## Correlation\n",
    "\n",
    " - A correlation is a statistical measure of the relationship between two variables. The measure is best used in variables that demonstrate a linear relationship between each other. The fit of the data can be visually represented in a scatterplot. Using a scatterplot, we can generally assess the relationship between the variables and determine whether they are correlated or not.\n",
    "\n",
    "![](https://xaktly.com/Images/ProbStat/Correlation/CorrelationCoefficientRange.png)\n",
    "\n",
    "- -1: Perfect negative correlation. The variables tend to move in opposite directions (i.e., when one variable increases, the other variable decreases).\n",
    "- 0: No correlation. The variables do not have a relationship with each other.\n",
    "- 1: Perfect positive correlation. The variables tend to move in the same direction (i.e., when one variable increases, the other variable also increases).\n",
    "![](https://cdn.corporatefinanceinstitute.com/assets/correlation1.png)"
   ]
  },
  {
   "cell_type": "markdown",
   "metadata": {},
   "source": [
    "- rxy – the correlation coefficient of the linear relationship between the variables x and y\n",
    "- xi – the values of the x-variable in a sample\n",
    "- x̅ – the mean of the values of the x-variable\n",
    "- yi – the values of the y-variable in a sample\n",
    "- ȳ – the mean of the values of the y-variable"
   ]
  },
  {
   "cell_type": "code",
   "execution_count": null,
   "metadata": {},
   "outputs": [],
   "source": []
  },
  {
   "cell_type": "code",
   "execution_count": null,
   "metadata": {},
   "outputs": [],
   "source": []
  },
  {
   "cell_type": "code",
   "execution_count": null,
   "metadata": {},
   "outputs": [],
   "source": []
  },
  {
   "cell_type": "code",
   "execution_count": null,
   "metadata": {},
   "outputs": [],
   "source": []
  },
  {
   "cell_type": "code",
   "execution_count": null,
   "metadata": {},
   "outputs": [],
   "source": []
  },
  {
   "cell_type": "markdown",
   "metadata": {},
   "source": [
    "## Simple Linear Regression\n",
    "\n",
    "Simple linear regression is an approach for predicting a **quantitative response** using a **single feature** (or \"predictor\" or \"input variable\"). It takes the following form:\n",
    "\n",
    "$y = \\beta_0 + \\beta_1x$\n",
    "\n",
    "What does each term represent?\n",
    "- $y$ is the response\n",
    "- $x$ is the feature\n",
    "- $\\beta_0$ is the intercept\n",
    "- $\\beta_1$ is the coefficient for x\n",
    "\n",
    "Together, $\\beta_0$ and $\\beta_1$ are called the **model coefficients**. To create your model, you must \"learn\" the values of these coefficients. And once we've learned these coefficients, we can use the model to predict Sales!"
   ]
  },
  {
   "cell_type": "markdown",
   "metadata": {},
   "source": [
    "## manual calculattion \n",
    "-> Lecture_03_2_manual simple linear model.docx"
   ]
  },
  {
   "cell_type": "code",
   "execution_count": null,
   "metadata": {},
   "outputs": [],
   "source": []
  },
  {
   "cell_type": "code",
   "execution_count": null,
   "metadata": {},
   "outputs": [],
   "source": []
  },
  {
   "cell_type": "markdown",
   "metadata": {},
   "source": [
    "## pvalue P>|t|\n",
    "- **null hypothesis:** There is no relationship between shelf_pace and sale (and thus $\\beta_1$ equals zero)\n",
    "- **alternative hypothesis:** There is a relationship between shelf_pace and sale (and thus $\\beta_1$ is not equal to zero)"
   ]
  },
  {
   "cell_type": "markdown",
   "metadata": {},
   "source": [
    "# Example: Multiple Linear Regression from Scratch <a href=\"#Example:-Multiple-Linear-Regression-from-Scratch-in-Numpy\" class=\"anchor-link\">¶</a>\n",
    "\n",
    "## How does the model actually work behind the scenes?<a href=\"#How-does-the-model-actually-work-behind-the-scenes?\" class=\"anchor-link\">¶</a>\n",
    "\n",
    "![](https://i.imgur.com/DT4H1Yk.jpg)\n",
    "\n",
    "# Example: Multiple Linear Regression from Scratch <a href=\"#Example:-Multiple-Linear-Regression-from-Scratch-in-Numpy\" class=\"anchor-link\">¶</a>\n",
    "\n",
    "## How does the model actually work behind the scenes?<a href=\"#How-does-the-model-actually-work-behind-the-scenes?\" class=\"anchor-link\">¶</a>\n",
    "\n",
    "![](https://www.jmp.com/en_us/statistics-knowledge-portal/what-is-multiple-regression/fitting-multiple-regression-model/_jcr_content/par/styledcontainer_2069/par/lightbox_4130/lightboxImage.img.png/1548702778023.png)\n"
   ]
  },
  {
   "cell_type": "code",
   "execution_count": null,
   "metadata": {},
   "outputs": [],
   "source": []
  },
  {
   "cell_type": "code",
   "execution_count": null,
   "metadata": {},
   "outputs": [],
   "source": []
  },
  {
   "cell_type": "code",
   "execution_count": null,
   "metadata": {},
   "outputs": [],
   "source": []
  },
  {
   "cell_type": "code",
   "execution_count": null,
   "metadata": {},
   "outputs": [],
   "source": []
  },
  {
   "cell_type": "markdown",
   "metadata": {},
   "source": [
    "## adjusted R square = ??? \n",
    "- ??? of variation in sales variable are explained by the model"
   ]
  },
  {
   "cell_type": "markdown",
   "metadata": {},
   "source": [
    "## R square\n",
    "![](https://miro.medium.com/max/2812/1*_HbrAW-tMRBli6ASD5Bttw.png)"
   ]
  },
  {
   "cell_type": "markdown",
   "metadata": {},
   "source": [
    "## adjusted R square\n",
    "![](https://www.k2analytics.co.in/wp-content/uploads/2020/04/R_squared-formula.png)\n",
    "Where **n** is No. of row and **k** is No. of columns"
   ]
  },
  {
   "cell_type": "markdown",
   "metadata": {},
   "source": [
    "- Adjusted R-squared is a modified version of R-squared that has been adjusted for the number of predictors in the model. \n",
    "- The adjusted R-squared increases when the new term improves the model more than would be expected by chance. \n",
    "- It decreases when a predictor improves the model by less than expected."
   ]
  },
  {
   "cell_type": "markdown",
   "metadata": {},
   "source": [
    "## Prob (F-statistic) = xxxx sig_level = 0.05\n",
    "- **null hypothesis:** There is no significant effect in having independent variables (y = B0)\n",
    "- **alternative hypothesis:** There is significant effect in having independent variables (y = B0 + B1xX1 + B2xX2)"
   ]
  },
  {
   "cell_type": "markdown",
   "metadata": {},
   "source": [
    "## How the linear model work?\n",
    "## Gradient Descent\n",
    "\n",
    "- **y = mx +c**\n",
    "\n",
    "- y: dependent variable\n",
    "- x: independent variable\n",
    "- m: coefficient\n",
    "- c: y intercept (The value of Y is c when the value of X is 0)\n",
    "![](https://editor.analyticsvidhya.com/uploads/283342.PNG)"
   ]
  },
  {
   "cell_type": "markdown",
   "metadata": {},
   "source": [
    "- Cost Function\n",
    "- The cost is the error in our predicted value. We will use the Mean Squared Error function to calculate the cost.\n",
    "![](https://editor.analyticsvidhya.com/uploads/228155.PNG)\n",
    "![](https://editor.analyticsvidhya.com/uploads/272996.PNG)\n",
    "- n: number of rows"
   ]
  },
  {
   "cell_type": "markdown",
   "metadata": {},
   "source": [
    "## Calculate the partial derivative of the Cost function with respect to m.\n",
    "![](https://editor.analyticsvidhya.com/uploads/976048.PNG)"
   ]
  },
  {
   "cell_type": "markdown",
   "metadata": {},
   "source": [
    "## Similarly, let’s find the partial derivative with respect to c\n",
    "![](https://editor.analyticsvidhya.com/uploads/978019.PNG)"
   ]
  },
  {
   "cell_type": "markdown",
   "metadata": {},
   "source": [
    "## m = m(model) - L x Dc\n",
    "## c = c(model) - L x Dm\n",
    "\n",
    "L: learning rate\n",
    "\n",
    "m(model) and c(model): algorithm will apply m = 0 and c= 0, then repeat the calculation until Cost function is very small (ideally = 0)\n"
   ]
  },
  {
   "cell_type": "markdown",
   "metadata": {},
   "source": [
    "![](https://editor.analyticsvidhya.com/uploads/221784.PNG)"
   ]
  },
  {
   "cell_type": "markdown",
   "metadata": {},
   "source": [
    "## Case Study 1 weather data"
   ]
  },
  {
   "cell_type": "code",
   "execution_count": null,
   "metadata": {},
   "outputs": [],
   "source": []
  },
  {
   "cell_type": "code",
   "execution_count": null,
   "metadata": {},
   "outputs": [],
   "source": []
  },
  {
   "cell_type": "code",
   "execution_count": null,
   "metadata": {},
   "outputs": [],
   "source": []
  },
  {
   "cell_type": "code",
   "execution_count": null,
   "metadata": {},
   "outputs": [],
   "source": []
  },
  {
   "cell_type": "code",
   "execution_count": null,
   "metadata": {},
   "outputs": [],
   "source": []
  },
  {
   "cell_type": "code",
   "execution_count": null,
   "metadata": {},
   "outputs": [],
   "source": []
  },
  {
   "cell_type": "code",
   "execution_count": null,
   "metadata": {},
   "outputs": [],
   "source": []
  },
  {
   "cell_type": "code",
   "execution_count": null,
   "metadata": {},
   "outputs": [],
   "source": []
  },
  {
   "cell_type": "code",
   "execution_count": null,
   "metadata": {},
   "outputs": [],
   "source": []
  },
  {
   "cell_type": "code",
   "execution_count": null,
   "metadata": {},
   "outputs": [],
   "source": []
  },
  {
   "cell_type": "code",
   "execution_count": null,
   "metadata": {},
   "outputs": [],
   "source": []
  },
  {
   "cell_type": "code",
   "execution_count": null,
   "metadata": {},
   "outputs": [],
   "source": []
  },
  {
   "cell_type": "code",
   "execution_count": null,
   "metadata": {},
   "outputs": [],
   "source": []
  },
  {
   "cell_type": "markdown",
   "metadata": {},
   "source": [
    "## Case study 2 pizza_palce"
   ]
  },
  {
   "cell_type": "code",
   "execution_count": null,
   "metadata": {},
   "outputs": [],
   "source": []
  },
  {
   "cell_type": "code",
   "execution_count": null,
   "metadata": {},
   "outputs": [],
   "source": []
  },
  {
   "cell_type": "code",
   "execution_count": null,
   "metadata": {},
   "outputs": [],
   "source": []
  },
  {
   "cell_type": "code",
   "execution_count": null,
   "metadata": {},
   "outputs": [],
   "source": []
  },
  {
   "cell_type": "code",
   "execution_count": null,
   "metadata": {},
   "outputs": [],
   "source": []
  },
  {
   "cell_type": "code",
   "execution_count": null,
   "metadata": {},
   "outputs": [],
   "source": []
  },
  {
   "cell_type": "code",
   "execution_count": null,
   "metadata": {},
   "outputs": [],
   "source": []
  },
  {
   "cell_type": "code",
   "execution_count": null,
   "metadata": {},
   "outputs": [],
   "source": []
  },
  {
   "cell_type": "code",
   "execution_count": null,
   "metadata": {},
   "outputs": [],
   "source": []
  },
  {
   "cell_type": "markdown",
   "metadata": {},
   "source": [
    "Reference: University of Derby"
   ]
  }
 ],
 "metadata": {
  "kernelspec": {
   "display_name": "Python 3",
   "language": "python",
   "name": "python3"
  },
  "language_info": {
   "codemirror_mode": {
    "name": "ipython",
    "version": 3
   },
   "file_extension": ".py",
   "mimetype": "text/x-python",
   "name": "python",
   "nbconvert_exporter": "python",
   "pygments_lexer": "ipython3",
   "version": "3.8.5"
  }
 },
 "nbformat": 4,
 "nbformat_minor": 4
}
